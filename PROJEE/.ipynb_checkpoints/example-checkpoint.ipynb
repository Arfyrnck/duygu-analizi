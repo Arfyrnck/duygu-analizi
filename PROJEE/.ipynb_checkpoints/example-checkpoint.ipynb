{
 "cells": [
  {
   "cell_type": "code",
   "execution_count": null,
   "id": "e8e88b97-d010-4ce3-8d62-d04ef7029f9a",
   "metadata": {},
   "outputs": [],
   "source": [
    "# Hücre 1: Gerekli Kütüphaneler\n",
    "import pandas as pd\n",
    "import re\n",
    "from collections import Counter\n",
    "import matplotlib.pyplot as plt\n",
    "from wordcloud import WordCloud\n",
    "from sklearn.model_selection import train_test_split\n",
    "from sklearn.feature_extraction.text import CountVectorizer, TfidfVectorizer\n",
    "from sklearn.naive_bayes import MultinomialNB\n",
    "from sklearn.linear_model import LogisticRegression\n",
    "from sklearn.svm import LinearSVC\n",
    "from sklearn.metrics import accuracy_score, classification_report, confusion_matrix, ConfusionMatrixDisplay, roc_curve, auc\n",
    "import nltk\n",
    "nltk.download('stopwords')\n",
    "from nltk.corpus import stopwords\n",
    "\n",
    "# Gradio import\n",
    "import gradio as gr\n",
    "\n",
    "# Türkçe stopwords\n",
    "turkce_stopwords = set(stopwords.words('turkish'))"
   ]
  },
  {
   "cell_type": "code",
   "execution_count": null,
   "id": "fa1e5a3b-1298-4893-9251-45634a901a6a",
   "metadata": {},
   "outputs": [],
   "source": [
    "# Hücre 2: Temizleme Fonksiyonu\n",
    "def temizle(yorum):\n",
    "    yorum = str(yorum).lower()\n",
    "    yorum = re.sub(r\"http\\S+\", \"\", yorum)\n",
    "    yorum = re.sub(r\"[^a-zçğıöşü0-9\\s]\", \"\", yorum)\n",
    "    yorum = re.sub(r\"\\s+\", \" \", yorum).strip()\n",
    "    yorum = \" \".join([w for w in yorum.split() if w not in turkce_stopwords])\n",
    "    return yorum"
   ]
  },
  {
   "cell_type": "code",
   "execution_count": null,
   "id": "e1a69210-8718-40ae-87b5-9390c2396660",
   "metadata": {},
   "outputs": [],
   "source": [
    "# Hücre 3: Veriyi Yükle ve Temizle\n",
    "df = pd.read_csv(\"eticaret-urun-yorumlari.csv\", sep=\";\")\n",
    "df.columns = [\"Metin\", \"Durum\"]\n",
    "df = df[df[\"Durum\"].isin([0, 1])]\n",
    "df[\"temiz_yorum\"] = df[\"Metin\"].apply(temizle)\n",
    "df = df[df['temiz_yorum'].str.len() > 5]\n",
    "df.head()\n"
   ]
  },
  {
   "cell_type": "code",
   "execution_count": null,
   "id": "dfbdcad5-c873-4b73-9087-42b7642f1532",
   "metadata": {},
   "outputs": [],
   "source": [
    "# Hücre 4: WordCloud\n",
    "wc = WordCloud(width=800, height=400).generate(\" \".join(df[\"temiz_yorum\"]))\n",
    "plt.figure(figsize=(12, 6))\n",
    "plt.imshow(wc, interpolation='bilinear')\n",
    "plt.axis(\"off\")\n",
    "plt.title(\"Kelime Bulutu\")\n",
    "plt.show()"
   ]
  },
  {
   "cell_type": "code",
   "execution_count": null,
   "id": "23b0882e-b089-41ef-8c81-9403a102ed45",
   "metadata": {},
   "outputs": [],
   "source": [
    "# Hücre 5: Olumlu-Olumsuz Dağılım\n",
    "df[\"Durum\"].value_counts().plot(kind=\"bar\")\n",
    "plt.title(\"Olumlu / Olumsuz Yorum Dağılımı\")\n",
    "plt.xlabel(\"Etiket (1: Olumlu, 0: Olumsuz)\")\n",
    "plt.ylabel(\"Yorum Sayısı\")\n",
    "plt.show()"
   ]
  },
  {
   "cell_type": "code",
   "execution_count": null,
   "id": "28200e5e-a6ab-4b1b-9bad-28454fcca983",
   "metadata": {},
   "outputs": [],
   "source": [
    "# Hücre 6: Eğitim/Test Ayrımı ve Model Eğitimi (Naive Bayes)\n",
    "X_train, X_test, y_train, y_test = train_test_split(df[\"temiz_yorum\"], df[\"Durum\"], test_size=0.2, random_state=42)\n",
    "\n",
    "vectorizer = CountVectorizer()\n",
    "X_train_vec = vectorizer.fit_transform(X_train)\n",
    "X_test_vec = vectorizer.transform(X_test)\n",
    "\n",
    "model_nb = MultinomialNB()\n",
    "model_nb.fit(X_train_vec, y_train)\n",
    "\n",
    "y_pred_nb = model_nb.predict(X_test_vec)\n",
    "print(\"Naive Bayes Doğruluk:\", accuracy_score(y_test, y_pred_nb))\n",
    "print(classification_report(y_test, y_pred_nb))"
   ]
  },
  {
   "cell_type": "code",
   "execution_count": null,
   "id": "27e55bc9-3e94-462d-ac22-f3e4e2099b35",
   "metadata": {},
   "outputs": [],
   "source": [
    "# Hücre 7: Confusion Matrix\n",
    "cm = confusion_matrix(y_test, y_pred_nb)\n",
    "disp = ConfusionMatrixDisplay(confusion_matrix=cm, display_labels=[\"Olumsuz\", \"Olumlu\"])\n",
    "disp.plot(cmap=\"Blues\")\n",
    "plt.title(\"Naive Bayes Confusion Matrix\")\n",
    "plt.show()\n"
   ]
  },
  {
   "cell_type": "code",
   "execution_count": null,
   "id": "c0c25b32-7aeb-4aeb-b633-e393f62469ee",
   "metadata": {},
   "outputs": [],
   "source": [
    "# Hücre 8: ROC Curve\n",
    "y_probs = model_nb.predict_proba(X_test_vec)[:, 1]\n",
    "fpr, tpr, thresholds = roc_curve(y_test, y_probs)\n",
    "roc_auc = auc(fpr, tpr)\n",
    "\n",
    "plt.figure()\n",
    "plt.plot(fpr, tpr, label=f\"ROC curve (AUC = {roc_auc:.2f})\")\n",
    "plt.plot([0, 1], [0, 1], linestyle='--', color='gray')\n",
    "plt.xlabel(\"False Positive Rate\")\n",
    "plt.ylabel(\"True Positive Rate\")\n",
    "plt.title(\"Naive Bayes ROC Curve\")\n",
    "plt.legend()\n",
    "plt.grid(True)\n",
    "plt.show()"
   ]
  },
  {
   "cell_type": "code",
   "execution_count": null,
   "id": "6e458fa1-ed91-4806-9cc7-2b6c6fb06f57",
   "metadata": {},
   "outputs": [],
   "source": [
    "# Hücre 9: Tahminleri Kaydet\n",
    "df[\"tahmin\"] = model_nb.predict(vectorizer.transform(df[\"temiz_yorum\"]))\n",
    "df[\"dogru_mu\"] = df[\"Durum\"] == df[\"tahmin\"]\n",
    "df.to_csv(\"yorum_tahmin_sonuclari.csv\", index=False)\n",
    "print(\"📁 Tahmin sonuçları 'yorum_tahmin_sonuclari.csv' dosyasına kaydedildi.\")\n"
   ]
  },
  {
   "cell_type": "code",
   "execution_count": null,
   "id": "aa8d6089-9fc2-4852-9ce2-e55c758900ea",
   "metadata": {},
   "outputs": [],
   "source": [
    "# Hücre 10: Model Karşılaştırması (Logistic Regression & SVM)\n",
    "model_lr = LogisticRegression(max_iter=1000)\n",
    "model_lr.fit(X_train_vec, y_train)\n",
    "y_pred_lr = model_lr.predict(X_test_vec)\n",
    "print(\"\\nLogistic Regression Doğruluk:\", accuracy_score(y_test, y_pred_lr))\n",
    "\n",
    "model_svm = LinearSVC()\n",
    "model_svm.fit(X_train_vec, y_train)\n",
    "y_pred_svm = model_svm.predict(X_test_vec)\n",
    "print(\"\\nSVM Doğruluk:\", accuracy_score(y_test, y_pred_svm))\n"
   ]
  },
  {
   "cell_type": "code",
   "execution_count": null,
   "id": "d8c98342-fe8d-4f2b-8546-7d380523a286",
   "metadata": {},
   "outputs": [],
   "source": [
    "# Hücre 11: TF-IDF ile Karşılaştırma\n",
    "tfidf = TfidfVectorizer()\n",
    "X_train_tfidf = tfidf.fit_transform(X_train)\n",
    "X_test_tfidf = tfidf.transform(X_test)\n",
    "\n",
    "model_tfidf_nb = MultinomialNB()\n",
    "model_tfidf_nb.fit(X_train_tfidf, y_train)\n",
    "y_pred_tfidf_nb = model_tfidf_nb.predict(X_test_tfidf)\n",
    "\n",
    "print(\"\\nTF-IDF Naive Bayes Doğruluk:\", accuracy_score(y_test, y_pred_tfidf_nb))\n",
    "print(classification_report(y_test, y_pred_tfidf_nb))\n"
   ]
  },
  {
   "cell_type": "code",
   "execution_count": null,
   "id": "19f8ed20-b9e3-4422-a9b4-2fc6dee3ced4",
   "metadata": {},
   "outputs": [],
   "source": [
    "# Hücre 12: CountVectorizer vs TF-IDF Doğruluk Karşılaştırması\n",
    "acc_count = accuracy_score(y_test, y_pred_nb)\n",
    "acc_tfidf = accuracy_score(y_test, y_pred_tfidf_nb)\n",
    "print(\"\\n🔍 Vektörleştirme Karşılaştırması\")\n",
    "print(f\"CountVectorizer Doğruluk: {acc_count:.4f}\")\n",
    "print(f\"TF-IDF           Doğruluk: {acc_tfidf:.4f}\")"
   ]
  },
  {
   "cell_type": "code",
   "execution_count": null,
   "id": "5557a87e-5830-4bb9-8dd1-971d835467b5",
   "metadata": {},
   "outputs": [],
   "source": [
    "# Hücre 13: Gradio ile Web Arayüzü\n",
    "def tahmin_gradio(yorum):\n",
    "    temiz = temizle(yorum)\n",
    "    vektor = vectorizer.transform([temiz])\n",
    "    tahmin = model_nb.predict(vektor)[0]\n",
    "    return \"Olumlu 😊\" if tahmin == 1 else \"Olumsuz 😞\"\n",
    "\n",
    "gr.Interface(\n",
    "    fn=tahmin_gradio,\n",
    "    inputs=gr.Textbox(lines=3, placeholder=\"Yorumunuzu buraya girin...\"),\n",
    "    outputs=\"text\",\n",
    "    title=\"Ürün Yorumlarından Duygu Tahmini\",\n",
    "    description=\"Bir yorum girin, model olumlu mu olumsuz mu olduğunu tahmin etsin.\"\n",
    ").launch()"
   ]
  }
 ],
 "metadata": {
  "kernelspec": {
   "display_name": "Python 3 (ipykernel)",
   "language": "python",
   "name": "python3"
  },
  "language_info": {
   "codemirror_mode": {
    "name": "ipython",
    "version": 3
   },
   "file_extension": ".py",
   "mimetype": "text/x-python",
   "name": "python",
   "nbconvert_exporter": "python",
   "pygments_lexer": "ipython3",
   "version": "3.11.3"
  }
 },
 "nbformat": 4,
 "nbformat_minor": 5
}
